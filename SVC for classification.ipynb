{
 "cells": [
  {
   "cell_type": "markdown",
   "metadata": {},
   "source": [
    "# Support Vector Machine for classification algorithm\n",
    "\n",
    "In the following project will be analyzed the dataset *airline.csv*; we'll also implement a ML algorithm for a classification problem. We'll try, in fact, by using SVC(support vector classifier) to classify the level of satisfaction of the customers of an airline. The variable of interest is binomial (satisfied, neutral or dissatisfied).\n",
    "\n",
    "This dataset has been chosen because it contains **nominal**, **ordinal** e **quantitative** variables, allowing us to use different kind of statistical tests for evaluating the statistical significance with respect to the variable ```satisfaction```."
   ]
  },
  {
   "cell_type": "code",
   "execution_count": 1,
   "metadata": {},
   "outputs": [],
   "source": [
    "import pandas as pd\n",
    "import numpy as np\n",
    "import matplotlib.pyplot as plt\n",
    "import statsmodels.stats.contingency_tables as st\n",
    "from sklearn.model_selection import train_test_split, GridSearchCV, RandomizedSearchCV, StratifiedKFold\n",
    "from sklearn.metrics import ConfusionMatrixDisplay, confusion_matrix, accuracy_score\n",
    "from sklearn.svm import SVC\n",
    "\n",
    "%matplotlib inline"
   ]
  },
  {
   "cell_type": "code",
   "execution_count": 2,
   "metadata": {},
   "outputs": [
    {
     "data": {
      "text/html": [
       "<div>\n",
       "<style scoped>\n",
       "    .dataframe tbody tr th:only-of-type {\n",
       "        vertical-align: middle;\n",
       "    }\n",
       "\n",
       "    .dataframe tbody tr th {\n",
       "        vertical-align: top;\n",
       "    }\n",
       "\n",
       "    .dataframe thead th {\n",
       "        text-align: right;\n",
       "    }\n",
       "</style>\n",
       "<table border=\"1\" class=\"dataframe\">\n",
       "  <thead>\n",
       "    <tr style=\"text-align: right;\">\n",
       "      <th></th>\n",
       "      <th>Gender</th>\n",
       "      <th>Customer_Type</th>\n",
       "      <th>Age</th>\n",
       "      <th>Type_of_Travel</th>\n",
       "      <th>Class</th>\n",
       "      <th>Flight_Distance</th>\n",
       "      <th>Inflight_wifi_service</th>\n",
       "      <th>Departure/Arrival_time_convenient</th>\n",
       "      <th>Ease_of_Online_booking</th>\n",
       "      <th>Gate_location</th>\n",
       "      <th>...</th>\n",
       "      <th>Inflight_entertainment</th>\n",
       "      <th>On-board_service</th>\n",
       "      <th>Leg_room_service</th>\n",
       "      <th>Baggage_handling</th>\n",
       "      <th>Checkin_service</th>\n",
       "      <th>Inflight_service</th>\n",
       "      <th>Cleanliness</th>\n",
       "      <th>Departure_Delay_in_Minutes</th>\n",
       "      <th>Arrival_Delay_in_Minutes</th>\n",
       "      <th>satisfaction</th>\n",
       "    </tr>\n",
       "  </thead>\n",
       "  <tbody>\n",
       "    <tr>\n",
       "      <th>0</th>\n",
       "      <td>Male</td>\n",
       "      <td>Loyal Customer</td>\n",
       "      <td>13</td>\n",
       "      <td>Personal Travel</td>\n",
       "      <td>Eco Plus</td>\n",
       "      <td>460</td>\n",
       "      <td>3</td>\n",
       "      <td>4</td>\n",
       "      <td>3</td>\n",
       "      <td>1</td>\n",
       "      <td>...</td>\n",
       "      <td>5</td>\n",
       "      <td>4</td>\n",
       "      <td>3</td>\n",
       "      <td>4</td>\n",
       "      <td>4</td>\n",
       "      <td>5</td>\n",
       "      <td>5</td>\n",
       "      <td>25</td>\n",
       "      <td>18.0</td>\n",
       "      <td>neutral or dissatisfied</td>\n",
       "    </tr>\n",
       "    <tr>\n",
       "      <th>1</th>\n",
       "      <td>Male</td>\n",
       "      <td>disloyal Customer</td>\n",
       "      <td>25</td>\n",
       "      <td>Business travel</td>\n",
       "      <td>Business</td>\n",
       "      <td>235</td>\n",
       "      <td>3</td>\n",
       "      <td>2</td>\n",
       "      <td>3</td>\n",
       "      <td>3</td>\n",
       "      <td>...</td>\n",
       "      <td>1</td>\n",
       "      <td>1</td>\n",
       "      <td>5</td>\n",
       "      <td>3</td>\n",
       "      <td>1</td>\n",
       "      <td>4</td>\n",
       "      <td>1</td>\n",
       "      <td>1</td>\n",
       "      <td>6.0</td>\n",
       "      <td>neutral or dissatisfied</td>\n",
       "    </tr>\n",
       "    <tr>\n",
       "      <th>2</th>\n",
       "      <td>Female</td>\n",
       "      <td>Loyal Customer</td>\n",
       "      <td>26</td>\n",
       "      <td>Business travel</td>\n",
       "      <td>Business</td>\n",
       "      <td>1142</td>\n",
       "      <td>2</td>\n",
       "      <td>2</td>\n",
       "      <td>2</td>\n",
       "      <td>2</td>\n",
       "      <td>...</td>\n",
       "      <td>5</td>\n",
       "      <td>4</td>\n",
       "      <td>3</td>\n",
       "      <td>4</td>\n",
       "      <td>4</td>\n",
       "      <td>4</td>\n",
       "      <td>5</td>\n",
       "      <td>0</td>\n",
       "      <td>0.0</td>\n",
       "      <td>satisfied</td>\n",
       "    </tr>\n",
       "    <tr>\n",
       "      <th>3</th>\n",
       "      <td>Female</td>\n",
       "      <td>Loyal Customer</td>\n",
       "      <td>25</td>\n",
       "      <td>Business travel</td>\n",
       "      <td>Business</td>\n",
       "      <td>562</td>\n",
       "      <td>2</td>\n",
       "      <td>5</td>\n",
       "      <td>5</td>\n",
       "      <td>5</td>\n",
       "      <td>...</td>\n",
       "      <td>2</td>\n",
       "      <td>2</td>\n",
       "      <td>5</td>\n",
       "      <td>3</td>\n",
       "      <td>1</td>\n",
       "      <td>4</td>\n",
       "      <td>2</td>\n",
       "      <td>11</td>\n",
       "      <td>9.0</td>\n",
       "      <td>neutral or dissatisfied</td>\n",
       "    </tr>\n",
       "    <tr>\n",
       "      <th>4</th>\n",
       "      <td>Male</td>\n",
       "      <td>Loyal Customer</td>\n",
       "      <td>61</td>\n",
       "      <td>Business travel</td>\n",
       "      <td>Business</td>\n",
       "      <td>214</td>\n",
       "      <td>3</td>\n",
       "      <td>3</td>\n",
       "      <td>3</td>\n",
       "      <td>3</td>\n",
       "      <td>...</td>\n",
       "      <td>3</td>\n",
       "      <td>3</td>\n",
       "      <td>4</td>\n",
       "      <td>4</td>\n",
       "      <td>3</td>\n",
       "      <td>3</td>\n",
       "      <td>3</td>\n",
       "      <td>0</td>\n",
       "      <td>0.0</td>\n",
       "      <td>satisfied</td>\n",
       "    </tr>\n",
       "  </tbody>\n",
       "</table>\n",
       "<p>5 rows × 23 columns</p>\n",
       "</div>"
      ],
      "text/plain": [
       "   Gender      Customer_Type  Age   Type_of_Travel     Class  Flight_Distance  \\\n",
       "0    Male     Loyal Customer   13  Personal Travel  Eco Plus              460   \n",
       "1    Male  disloyal Customer   25  Business travel  Business              235   \n",
       "2  Female     Loyal Customer   26  Business travel  Business             1142   \n",
       "3  Female     Loyal Customer   25  Business travel  Business              562   \n",
       "4    Male     Loyal Customer   61  Business travel  Business              214   \n",
       "\n",
       "   Inflight_wifi_service  Departure/Arrival_time_convenient  \\\n",
       "0                      3                                  4   \n",
       "1                      3                                  2   \n",
       "2                      2                                  2   \n",
       "3                      2                                  5   \n",
       "4                      3                                  3   \n",
       "\n",
       "   Ease_of_Online_booking  Gate_location  ...  Inflight_entertainment  \\\n",
       "0                       3              1  ...                       5   \n",
       "1                       3              3  ...                       1   \n",
       "2                       2              2  ...                       5   \n",
       "3                       5              5  ...                       2   \n",
       "4                       3              3  ...                       3   \n",
       "\n",
       "   On-board_service  Leg_room_service  Baggage_handling  Checkin_service  \\\n",
       "0                 4                 3                 4                4   \n",
       "1                 1                 5                 3                1   \n",
       "2                 4                 3                 4                4   \n",
       "3                 2                 5                 3                1   \n",
       "4                 3                 4                 4                3   \n",
       "\n",
       "   Inflight_service  Cleanliness  Departure_Delay_in_Minutes  \\\n",
       "0                 5            5                          25   \n",
       "1                 4            1                           1   \n",
       "2                 4            5                           0   \n",
       "3                 4            2                          11   \n",
       "4                 3            3                           0   \n",
       "\n",
       "   Arrival_Delay_in_Minutes             satisfaction  \n",
       "0                      18.0  neutral or dissatisfied  \n",
       "1                       6.0  neutral or dissatisfied  \n",
       "2                       0.0                satisfied  \n",
       "3                       9.0  neutral or dissatisfied  \n",
       "4                       0.0                satisfied  \n",
       "\n",
       "[5 rows x 23 columns]"
      ]
     },
     "execution_count": 2,
     "metadata": {},
     "output_type": "execute_result"
    }
   ],
   "source": [
    "df = pd.read_csv('airline.csv').drop(['id', 'SR'], axis=1)\n",
    "\n",
    "df.head()"
   ]
  },
  {
   "cell_type": "markdown",
   "metadata": {},
   "source": [
    "## Handling missing values"
   ]
  },
  {
   "cell_type": "code",
   "execution_count": 3,
   "metadata": {},
   "outputs": [
    {
     "name": "stdout",
     "output_type": "stream",
     "text": [
      "Pct null values per column:\n",
      " Gender                               0.000000\n",
      "Customer_Type                        0.000000\n",
      "Age                                  0.000000\n",
      "Type_of_Travel                       0.000000\n",
      "Class                                0.000000\n",
      "Flight_Distance                      0.000000\n",
      "Inflight_wifi_service                0.000000\n",
      "Departure/Arrival_time_convenient    0.000000\n",
      "Ease_of_Online_booking               0.000000\n",
      "Gate_location                        0.000000\n",
      "Food_and_drink                       0.000000\n",
      "Online_boarding                      0.000000\n",
      "Seat_comfort                         0.000000\n",
      "Inflight_entertainment               0.000000\n",
      "On-board_service                     0.000000\n",
      "Leg_room_service                     0.000000\n",
      "Baggage_handling                     0.000000\n",
      "Checkin_service                      0.000000\n",
      "Inflight_service                     0.000000\n",
      "Cleanliness                          0.000000\n",
      "Departure_Delay_in_Minutes           0.000000\n",
      "Arrival_Delay_in_Minutes             0.298352\n",
      "satisfaction                         0.000000\n",
      "dtype: float64\n"
     ]
    }
   ],
   "source": [
    "print(\"Pct null values per column:\\n\", (df.isnull().sum() / df.shape[0]) * 100)"
   ]
  },
  {
   "cell_type": "markdown",
   "metadata": {},
   "source": [
    "The column ```Arrival_Delay_in_Minutes``` is the only one with missing values. Those represent the **0.29 %** of the total. Given the extremely low percentage, we'll remove those rows from the dataset for it won't cause a substantial loss of information."
   ]
  },
  {
   "cell_type": "code",
   "execution_count": 4,
   "metadata": {},
   "outputs": [],
   "source": [
    "df = df.dropna()"
   ]
  },
  {
   "cell_type": "code",
   "execution_count": 5,
   "metadata": {},
   "outputs": [
    {
     "name": "stdout",
     "output_type": "stream",
     "text": [
      "Pct null values per column:\n",
      " Gender                               0.0\n",
      "Customer_Type                        0.0\n",
      "Age                                  0.0\n",
      "Type_of_Travel                       0.0\n",
      "Class                                0.0\n",
      "Flight_Distance                      0.0\n",
      "Inflight_wifi_service                0.0\n",
      "Departure/Arrival_time_convenient    0.0\n",
      "Ease_of_Online_booking               0.0\n",
      "Gate_location                        0.0\n",
      "Food_and_drink                       0.0\n",
      "Online_boarding                      0.0\n",
      "Seat_comfort                         0.0\n",
      "Inflight_entertainment               0.0\n",
      "On-board_service                     0.0\n",
      "Leg_room_service                     0.0\n",
      "Baggage_handling                     0.0\n",
      "Checkin_service                      0.0\n",
      "Inflight_service                     0.0\n",
      "Cleanliness                          0.0\n",
      "Departure_Delay_in_Minutes           0.0\n",
      "Arrival_Delay_in_Minutes             0.0\n",
      "satisfaction                         0.0\n",
      "dtype: float64\n"
     ]
    }
   ],
   "source": [
    "print(\"Pct null values per column:\\n\", (df.isnull().sum() / df.shape[0]) * 100)"
   ]
  },
  {
   "cell_type": "markdown",
   "metadata": {},
   "source": [
    "## Exploratory analysis\n",
    "\n",
    "\n",
    "In this section we'll approach an exploratory analysis of the variables to have a clearer picture of the data we have. Among the classical central tendency and resuming statistics, we'll analize those variables which are of a quantitative type just to check for the presence of outliers."
   ]
  },
  {
   "cell_type": "code",
   "execution_count": 6,
   "metadata": {},
   "outputs": [
    {
     "data": {
      "image/png": "[encoded data removed]",
      "text/plain": [
       "<Figure size 864x576 with 1 Axes>"
      ]
     },
     "metadata": {
      "needs_background": "light"
     },
     "output_type": "display_data"
    }
   ],
   "source": [
    "(df['Gender'].value_counts(normalize=True) * 100).plot(kind='barh', figsize=(12,8))\n",
    "plt.title('Gender distribution')\n",
    "plt.show()"
   ]
  },
  {
   "cell_type": "markdown",
   "metadata": {},
   "source": [
    "For what concern the genre distribution, the dataset is extremely balanced with a small majority (little more than **50 %**) of female individuals."
   ]
  },
  {
   "cell_type": "code",
   "execution_count": 7,
   "metadata": {},
   "outputs": [
    {
     "data": {
      "image/png": "[encoded data removed]",
      "text/plain": [
       "<Figure size 864x576 with 1 Axes>"
      ]
     },
     "metadata": {
      "needs_background": "light"
     },
     "output_type": "display_data"
    }
   ],
   "source": [
    "(df['satisfaction'].value_counts(normalize=True) * 100).plot(kind='barh', figsize=(12,8))\n",
    "plt.title('Satisfaction distribution')\n",
    "plt.show()"
   ]
  },
  {
   "cell_type": "markdown",
   "metadata": {},
   "source": [
    "```satisfaction``` is our variable of interest (the target variable we'll try to classify to predict the outcome); in this bar plot we can see that the majority of customers is not satisfied. The percentage of satisfied is around **45 %**.\n",
    "\n",
    "\n",
    "At this point we're interested in analyzing if there's any significant variation of the level of satisfaction given the gender."
   ]
  },
  {
   "cell_type": "code",
   "execution_count": 8,
   "metadata": {},
   "outputs": [
    {
     "data": {
      "image/png": "[encoded data removed]",
      "text/plain": [
       "<Figure size 864x576 with 1 Axes>"
      ]
     },
     "metadata": {
      "needs_background": "light"
     },
     "output_type": "display_data"
    }
   ],
   "source": [
    "women_sat = round(df[df['Gender'] == 'Female']['satisfaction'].value_counts(normalize=True) * 100, 2)\n",
    "men_sat = round(df[df['Gender'] == 'Male']['satisfaction'].value_counts(normalize=True) * 100, 2)\n",
    "\n",
    "labels = ['satisfied', 'not satisfied']\n",
    "x = np.arange(len(labels))\n",
    "width = .35\n",
    "fig, ax = plt.subplots(figsize=(12,8))\n",
    "\n",
    "rects1 = ax.bar(x - width/2 - 0.007, women_sat, width, label='Women')\n",
    "rects2 = ax.bar(x + width/2 + 0.007, men_sat, width, label='Men')\n",
    "\n",
    "ax.set_ylabel('PCT', rotation=90)\n",
    "ax.set_title('Scores by group and gender')\n",
    "ax.set_xticks(x, labels)\n",
    "ax.legend()\n",
    "\n",
    "fig.tight_layout()\n",
    "\n",
    "plt.show()"
   ]
  },
  {
   "cell_type": "markdown",
   "metadata": {},
   "source": [
    "We cannot see any significant variation among the genders. To us it seems that there is not a significative relation among the two variables (noth nominal).\n",
    "We'll investigate further when we'll do a statistical analysis for the variables for modelling the ML algorithm.\n",
    "\n",
    "## Outliers analysis\n",
    "\n",
    "In this dataset there are some variables (```Flight_distance```, ```Departure_Delay_in_Minutes```, ```Arrival_Delay_in_Minutes```, ```Age```) that represent quantitative and continous data. Given these charateristics we can study the behaviours and manage the presence of outliers."
   ]
  },
  {
   "cell_type": "markdown",
   "metadata": {},
   "source": [
    "### Flight Distance, Departure Delay and Arrival Delay"
   ]
  },
  {
   "cell_type": "code",
   "execution_count": 9,
   "metadata": {},
   "outputs": [
    {
     "data": {
      "image/png": "[encoded data removed]",
      "text/plain": [
       "<Figure size 864x576 with 1 Axes>"
      ]
     },
     "metadata": {
      "needs_background": "light"
     },
     "output_type": "display_data"
    }
   ],
   "source": [
    "cols = ['Flight_Distance', 'Departure_Delay_in_Minutes', 'Arrival_Delay_in_Minutes']\n",
    "\n",
    "df[cols].plot(kind='box', figsize=(12, 8))\n",
    "plt.show()"
   ]
  },
  {
   "cell_type": "markdown",
   "metadata": {},
   "source": [
    "It looks like the three variables contain some outliers. We have to considerate that, given the fact that those values extremely far from the central tendency indicators (and they are really far indeed), those same values are all likely and in fact highly probable. It is not rare, instead it is pretty usual, that many flights fly on routes of thousands of kilometers and it is also quite common that a flight has hours of delay from the scheduled departure. \n",
    "We could say that for flights that have more than **10** hours of delay, we could be in front of some outliers that could jeopardize our model."
   ]
  },
  {
   "cell_type": "code",
   "execution_count": 10,
   "metadata": {},
   "outputs": [
    {
     "data": {
      "text/plain": [
       "0.01641021680792324"
      ]
     },
     "execution_count": 10,
     "metadata": {},
     "output_type": "execute_result"
    }
   ],
   "source": [
    "dep_benchmark = 600\n",
    "arr_benchmark = 600\n",
    "\n",
    "outliers = df[(df['Departure_Delay_in_Minutes'] > dep_benchmark) & (df['Arrival_Delay_in_Minutes'] > arr_benchmark)]\n",
    "\n",
    "outliers.shape[0] / df.shape[0] * 100"
   ]
  },
  {
   "cell_type": "markdown",
   "metadata": {},
   "source": [
    "There are **17** observations that are extreme outliers. Those represent the **0.016 %** of the full dataset; not a great loss of information by eliminating them."
   ]
  },
  {
   "cell_type": "code",
   "execution_count": 11,
   "metadata": {},
   "outputs": [],
   "source": [
    "df = df.drop(outliers.index, axis=0).copy()"
   ]
  },
  {
   "cell_type": "markdown",
   "metadata": {},
   "source": [
    "If we see the boxplot of the flight distance, we can see how we're in presence of extremely low values. It seems to us extremely unlikely in fact that someone decides to take a flight for distances smaller than **100 km**. We'll se the proportion of this particular subset and, if the loss of information is negligible, we'll drop those rows."
   ]
  },
  {
   "cell_type": "code",
   "execution_count": 12,
   "metadata": {},
   "outputs": [
    {
     "data": {
      "text/plain": [
       "0.7984398080654973"
      ]
     },
     "execution_count": 12,
     "metadata": {},
     "output_type": "execute_result"
    }
   ],
   "source": [
    "small_distance_rows = df[(df['Flight_Distance'] > 0) & (df['Flight_Distance'] <= 100)]\n",
    "\n",
    "small_distance_rows.shape[0] / df.shape[0] * 100"
   ]
  },
  {
   "cell_type": "markdown",
   "metadata": {},
   "source": [
    "This subset represents almost the **0.80 %** of the full dataset."
   ]
  },
  {
   "cell_type": "code",
   "execution_count": 13,
   "metadata": {},
   "outputs": [],
   "source": [
    "df = df.drop(small_distance_rows.index, axis=0).copy()"
   ]
  },
  {
   "cell_type": "code",
   "execution_count": 14,
   "metadata": {},
   "outputs": [
    {
     "data": {
      "text/plain": [
       "(102750, 23)"
      ]
     },
     "execution_count": 14,
     "metadata": {},
     "output_type": "execute_result"
    }
   ],
   "source": [
    "df.shape"
   ]
  },
  {
   "cell_type": "markdown",
   "metadata": {},
   "source": [
    "### Age"
   ]
  },
  {
   "cell_type": "code",
   "execution_count": 15,
   "metadata": {},
   "outputs": [
    {
     "data": {
      "image/png": "[encoded data removed]",
      "text/plain": [
       "<Figure size 864x576 with 1 Axes>"
      ]
     },
     "metadata": {
      "needs_background": "light"
     },
     "output_type": "display_data"
    }
   ],
   "source": [
    "df['Age'].plot(kind='box', figsize=(12,8))\n",
    "plt.show()"
   ]
  },
  {
   "cell_type": "markdown",
   "metadata": {},
   "source": [
    "In the column  ```age``` we're not facing some particular and problematic value (e.g. negative values or values bigger than 100) however it seems highly uncommon that very young customers can fill a survey about the level of satisfaction for a service.\n",
    "We'll deeply analyze a subset for the age up to 15 years old."
   ]
  },
  {
   "cell_type": "code",
   "execution_count": 16,
   "metadata": {},
   "outputs": [
    {
     "data": {
      "text/plain": [
       "Personal Travel    4022\n",
       "Business travel    1139\n",
       "Name: Type_of_Travel, dtype: int64"
      ]
     },
     "execution_count": 16,
     "metadata": {},
     "output_type": "execute_result"
    }
   ],
   "source": [
    "df[df['Age'] < 15]['Type_of_Travel'].value_counts()\n"
   ]
  },
  {
   "cell_type": "markdown",
   "metadata": {},
   "source": [
    "In the subset we can even see that some observations are stored as **Business travel**. Highly unlikely that in that age can do that type of travel; at this point we can consider those observations as misleading and caused, probably, by errors during the recordings. We'll drop them\n"
   ]
  },
  {
   "cell_type": "code",
   "execution_count": 17,
   "metadata": {},
   "outputs": [],
   "source": [
    "final_df = df.drop(df[df['Age'] < 15].index, axis=0)"
   ]
  },
  {
   "cell_type": "code",
   "execution_count": 18,
   "metadata": {},
   "outputs": [
    {
     "data": {
      "text/plain": [
       "(97589, 23)"
      ]
     },
     "execution_count": 18,
     "metadata": {},
     "output_type": "execute_result"
    }
   ],
   "source": [
    "final_df.shape"
   ]
  },
  {
   "cell_type": "markdown",
   "metadata": {},
   "source": [
    "## One-Hot encoding\n",
    "\n",
    "We completed the first exploratory phase of our dataset where we solved some issues about missing values and about observations that we found to be quite unreliable.\n",
    "\n",
    "We know that some columns store nominal values (```Gender```, ```Customer_Type```, ```Type_of_Travel```, ```Class```); to be able to use them we'll have to substitute with *dummy variables*, but before doing so we'll need to see if there's any statistical significancy among each of those variables and the dependent variable ```satisfaction```. To do so, we'll use the **chi-square test** so that we'll able to consider only those columns which p-value is less than **0.05**\n",
    "\n",
    "We'll incapsulate the procedure inside of a function to make everything more flexible."
   ]
  },
  {
   "cell_type": "code",
   "execution_count": 19,
   "metadata": {},
   "outputs": [],
   "source": [
    "def chi_square_test(dataset, alpha):\n",
    "\n",
    "    nominal_columns = dataset.select_dtypes(exclude=['number']).iloc[:,:-1].columns\n",
    "    encoded = pd.get_dummies(final_df, columns=nominal_columns)\n",
    "    dummy_col = encoded.columns[-9:-1]\n",
    "\n",
    "    cols_to_drop = list()\n",
    "    for c in dummy_col:\n",
    "        tab = st.Table(pd.crosstab(encoded[c], encoded['satisfaction']))\n",
    "        p_value = st.Table.test_nominal_association(tab).pvalue\n",
    "        if p_value > alpha:\n",
    "            cols_to_drop.append(c)\n",
    "    \n",
    "    if len(cols_to_drop) != 0:\n",
    "        encoded.drop(cols_to_drop, axis=1, inplace=True)\n",
    "        print(f\"{cols_to_drop} dropped from dataset\")\n",
    "    else:\n",
    "        print('All the variables are statistically significant.')\n",
    "    \n",
    "    return encoded"
   ]
  },
  {
   "cell_type": "code",
   "execution_count": 20,
   "metadata": {},
   "outputs": [
    {
     "name": "stdout",
     "output_type": "stream",
     "text": [
      "All the variables are statistically significant.\n"
     ]
    },
    {
     "data": {
      "text/html": [
       "<div>\n",
       "<style scoped>\n",
       "    .dataframe tbody tr th:only-of-type {\n",
       "        vertical-align: middle;\n",
       "    }\n",
       "\n",
       "    .dataframe tbody tr th {\n",
       "        vertical-align: top;\n",
       "    }\n",
       "\n",
       "    .dataframe thead th {\n",
       "        text-align: right;\n",
       "    }\n",
       "</style>\n",
       "<table border=\"1\" class=\"dataframe\">\n",
       "  <thead>\n",
       "    <tr style=\"text-align: right;\">\n",
       "      <th></th>\n",
       "      <th>Age</th>\n",
       "      <th>Flight_Distance</th>\n",
       "      <th>Inflight_wifi_service</th>\n",
       "      <th>Departure/Arrival_time_convenient</th>\n",
       "      <th>Ease_of_Online_booking</th>\n",
       "      <th>Gate_location</th>\n",
       "      <th>Food_and_drink</th>\n",
       "      <th>Online_boarding</th>\n",
       "      <th>Seat_comfort</th>\n",
       "      <th>Inflight_entertainment</th>\n",
       "      <th>...</th>\n",
       "      <th>satisfaction</th>\n",
       "      <th>Gender_Female</th>\n",
       "      <th>Gender_Male</th>\n",
       "      <th>Customer_Type_Loyal Customer</th>\n",
       "      <th>Customer_Type_disloyal Customer</th>\n",
       "      <th>Type_of_Travel_Business travel</th>\n",
       "      <th>Type_of_Travel_Personal Travel</th>\n",
       "      <th>Class_Business</th>\n",
       "      <th>Class_Eco</th>\n",
       "      <th>Class_Eco Plus</th>\n",
       "    </tr>\n",
       "  </thead>\n",
       "  <tbody>\n",
       "    <tr>\n",
       "      <th>1</th>\n",
       "      <td>25</td>\n",
       "      <td>235</td>\n",
       "      <td>3</td>\n",
       "      <td>2</td>\n",
       "      <td>3</td>\n",
       "      <td>3</td>\n",
       "      <td>1</td>\n",
       "      <td>3</td>\n",
       "      <td>1</td>\n",
       "      <td>1</td>\n",
       "      <td>...</td>\n",
       "      <td>neutral or dissatisfied</td>\n",
       "      <td>0</td>\n",
       "      <td>1</td>\n",
       "      <td>0</td>\n",
       "      <td>1</td>\n",
       "      <td>1</td>\n",
       "      <td>0</td>\n",
       "      <td>1</td>\n",
       "      <td>0</td>\n",
       "      <td>0</td>\n",
       "    </tr>\n",
       "    <tr>\n",
       "      <th>2</th>\n",
       "      <td>26</td>\n",
       "      <td>1142</td>\n",
       "      <td>2</td>\n",
       "      <td>2</td>\n",
       "      <td>2</td>\n",
       "      <td>2</td>\n",
       "      <td>5</td>\n",
       "      <td>5</td>\n",
       "      <td>5</td>\n",
       "      <td>5</td>\n",
       "      <td>...</td>\n",
       "      <td>satisfied</td>\n",
       "      <td>1</td>\n",
       "      <td>0</td>\n",
       "      <td>1</td>\n",
       "      <td>0</td>\n",
       "      <td>1</td>\n",
       "      <td>0</td>\n",
       "      <td>1</td>\n",
       "      <td>0</td>\n",
       "      <td>0</td>\n",
       "    </tr>\n",
       "    <tr>\n",
       "      <th>3</th>\n",
       "      <td>25</td>\n",
       "      <td>562</td>\n",
       "      <td>2</td>\n",
       "      <td>5</td>\n",
       "      <td>5</td>\n",
       "      <td>5</td>\n",
       "      <td>2</td>\n",
       "      <td>2</td>\n",
       "      <td>2</td>\n",
       "      <td>2</td>\n",
       "      <td>...</td>\n",
       "      <td>neutral or dissatisfied</td>\n",
       "      <td>1</td>\n",
       "      <td>0</td>\n",
       "      <td>1</td>\n",
       "      <td>0</td>\n",
       "      <td>1</td>\n",
       "      <td>0</td>\n",
       "      <td>1</td>\n",
       "      <td>0</td>\n",
       "      <td>0</td>\n",
       "    </tr>\n",
       "    <tr>\n",
       "      <th>4</th>\n",
       "      <td>61</td>\n",
       "      <td>214</td>\n",
       "      <td>3</td>\n",
       "      <td>3</td>\n",
       "      <td>3</td>\n",
       "      <td>3</td>\n",
       "      <td>4</td>\n",
       "      <td>5</td>\n",
       "      <td>5</td>\n",
       "      <td>3</td>\n",
       "      <td>...</td>\n",
       "      <td>satisfied</td>\n",
       "      <td>0</td>\n",
       "      <td>1</td>\n",
       "      <td>1</td>\n",
       "      <td>0</td>\n",
       "      <td>1</td>\n",
       "      <td>0</td>\n",
       "      <td>1</td>\n",
       "      <td>0</td>\n",
       "      <td>0</td>\n",
       "    </tr>\n",
       "    <tr>\n",
       "      <th>5</th>\n",
       "      <td>26</td>\n",
       "      <td>1180</td>\n",
       "      <td>3</td>\n",
       "      <td>4</td>\n",
       "      <td>2</td>\n",
       "      <td>1</td>\n",
       "      <td>1</td>\n",
       "      <td>2</td>\n",
       "      <td>1</td>\n",
       "      <td>1</td>\n",
       "      <td>...</td>\n",
       "      <td>neutral or dissatisfied</td>\n",
       "      <td>1</td>\n",
       "      <td>0</td>\n",
       "      <td>1</td>\n",
       "      <td>0</td>\n",
       "      <td>0</td>\n",
       "      <td>1</td>\n",
       "      <td>0</td>\n",
       "      <td>1</td>\n",
       "      <td>0</td>\n",
       "    </tr>\n",
       "  </tbody>\n",
       "</table>\n",
       "<p>5 rows × 28 columns</p>\n",
       "</div>"
      ],
      "text/plain": [
       "   Age  Flight_Distance  Inflight_wifi_service  \\\n",
       "1   25              235                      3   \n",
       "2   26             1142                      2   \n",
       "3   25              562                      2   \n",
       "4   61              214                      3   \n",
       "5   26             1180                      3   \n",
       "\n",
       "   Departure/Arrival_time_convenient  Ease_of_Online_booking  Gate_location  \\\n",
       "1                                  2                       3              3   \n",
       "2                                  2                       2              2   \n",
       "3                                  5                       5              5   \n",
       "4                                  3                       3              3   \n",
       "5                                  4                       2              1   \n",
       "\n",
       "   Food_and_drink  Online_boarding  Seat_comfort  Inflight_entertainment  ...  \\\n",
       "1               1                3             1                       1  ...   \n",
       "2               5                5             5                       5  ...   \n",
       "3               2                2             2                       2  ...   \n",
       "4               4                5             5                       3  ...   \n",
       "5               1                2             1                       1  ...   \n",
       "\n",
       "              satisfaction  Gender_Female  Gender_Male  \\\n",
       "1  neutral or dissatisfied              0            1   \n",
       "2                satisfied              1            0   \n",
       "3  neutral or dissatisfied              1            0   \n",
       "4                satisfied              0            1   \n",
       "5  neutral or dissatisfied              1            0   \n",
       "\n",
       "   Customer_Type_Loyal Customer  Customer_Type_disloyal Customer  \\\n",
       "1                             0                                1   \n",
       "2                             1                                0   \n",
       "3                             1                                0   \n",
       "4                             1                                0   \n",
       "5                             1                                0   \n",
       "\n",
       "   Type_of_Travel_Business travel  Type_of_Travel_Personal Travel  \\\n",
       "1                               1                               0   \n",
       "2                               1                               0   \n",
       "3                               1                               0   \n",
       "4                               1                               0   \n",
       "5                               0                               1   \n",
       "\n",
       "   Class_Business Class_Eco  Class_Eco Plus  \n",
       "1               1         0               0  \n",
       "2               1         0               0  \n",
       "3               1         0               0  \n",
       "4               1         0               0  \n",
       "5               0         1               0  \n",
       "\n",
       "[5 rows x 28 columns]"
      ]
     },
     "execution_count": 20,
     "metadata": {},
     "output_type": "execute_result"
    }
   ],
   "source": [
    "encoded_df = chi_square_test(final_df, alpha=0.05)\n",
    "\n",
    "encoded_df.head()"
   ]
  },
  {
   "cell_type": "markdown",
   "metadata": {},
   "source": [
    "We worked with **nominal** type variables. We know that in the dataset there are some **ordinal** type columns; columns that measure the quality of some airport's and flight's services by using a range of values from **0** to **5**. Specifically:\n",
    "\n",
    "* ```Inflight_wifi_service```\n",
    "* ```Departure/Arrival_time_convenient```\n",
    "* ```Ease_of_Online_booking```\n",
    "* ```Gate_location```\n",
    "* ```Food_and_drink```\n",
    "* ```Online_boarding```\n",
    "* ```Seat_comfort```\n",
    "* ```Inflight_entertainment```\n",
    "* ```On-board_service```\n",
    "* ```Leg_room_service```\n",
    "* ```Baggage_handling```\n",
    "* ```Checkin_service```\n",
    "* ```Inflight_service```\n",
    "* ```Cleanliness```\n",
    "\n",
    "Being **ordinal** variables, we'll have to use the **Cochrane-Armitage** to measure the level of statistical significancy with ```satisfaction```.\n",
    "This test represents something similar to a \"modified\" chi-square test to be used with variables containing *k* categories and a binomial variable."
   ]
  },
  {
   "cell_type": "code",
   "execution_count": 21,
   "metadata": {},
   "outputs": [],
   "source": [
    "def cochrane_armitage(dataset, alpha):\n",
    "\n",
    "    # Cochrane-Armitage test for significance (modified chi square test for both categorical and ordinal variables)\n",
    "\n",
    "    ordinal_cols = dataset.loc[:, (dataset.nunique() > 2) & (dataset.nunique() <=6)].columns\n",
    "    cols_to_drop = list()\n",
    "\n",
    "    for c in ordinal_cols:\n",
    "        tab = st.Table(pd.crosstab(dataset[c], dataset['satisfaction']))\n",
    "        p_value = st.Table.test_ordinal_association(tab).pvalue\n",
    "\n",
    "        if p_value > alpha:\n",
    "            cols_to_drop.append(c)\n",
    "            print(f\"{c} is not statistically significant with satisfaction for a {p_value} p-value\\nunder the assumption of null hypothesis\")\n",
    "    \n",
    "    if len(cols_to_drop) != 0:\n",
    "        dataset.drop(cols_to_drop, axis=1, inplace=True)\n",
    "        print(f\"{cols_to_drop} dropped from dataset\")\n",
    "    else:\n",
    "        print(\"All the variables are statistically significant\")\n",
    "    \n",
    "    return dataset"
   ]
  },
  {
   "cell_type": "code",
   "execution_count": 22,
   "metadata": {},
   "outputs": [
    {
     "name": "stdout",
     "output_type": "stream",
     "text": [
      "Gate_location is not statistically significant with satisfaction for a 0.9576038866324897 p-value\n",
      "under the assumption of null hypothesis\n",
      "['Gate_location'] dropped from dataset\n"
     ]
    }
   ],
   "source": [
    "encoded_df = cochrane_armitage(encoded_df, alpha=0.05)"
   ]
  },
  {
   "cell_type": "markdown",
   "metadata": {},
   "source": [
    "## Machine Learning modelling\n",
    "\n",
    "After having handled all the missing values, spotted those values that we can consider as outliers and done a first *feature selection*, we can start to train our first ML model by using the **Support Vector Classifier**.\n",
    "\n",
    "This particular algorithm is, on a computational level, extremely complex for the machine, especially with a huge amount o observations and given our need to use some cross validation techniques for hyperparameters tuning; to solve this problem, we'll use a subset of **3000** observations (50 % coming from satisfied customers and the other 50 % from not satisfied) and we'll *standardize* numerical variables."
   ]
  },
  {
   "cell_type": "code",
   "execution_count": 23,
   "metadata": {},
   "outputs": [],
   "source": [
    "n_obs = 1500\n",
    "\n",
    "satisfied = encoded_df[encoded_df['satisfaction'] == 'satisfied'].sample(n_obs, random_state=42)\n",
    "not_satisfied = encoded_df[encoded_df['satisfaction'] == 'neutral or dissatisfied'].sample(n_obs, random_state=42)\n",
    "\n",
    "df = pd.concat([satisfied, not_satisfied]).sample(frac=1, random_state=42).reset_index(drop=True)\n",
    "\n",
    "# standardize values\n",
    "# avoiding standardization of dummy variables because mean and standard deviation \n",
    "# of those particular values are not representative of anything for it is not a \"real\" distribution we have\n",
    "\n",
    "df.iloc[:,:17] = (df.iloc[:,:17] - df.iloc[:,:17].mean()) / df.iloc[:,:17].std()"
   ]
  },
  {
   "cell_type": "markdown",
   "metadata": {},
   "source": [
    "We can now proceed to train our first model. In this initial moment we'll use the default parameters coming from the scikit learn library."
   ]
  },
  {
   "cell_type": "code",
   "execution_count": 24,
   "metadata": {},
   "outputs": [],
   "source": [
    "X = df.drop('satisfaction', axis=1)\n",
    "y = df['satisfaction']\n",
    "\n",
    "X_train, X_test, y_train, y_test = train_test_split(X, y, test_size=.25, random_state=42)\n",
    "\n",
    "model = SVC()\n",
    "model.fit(X_train, y_train)\n",
    "preds = model.predict(X_test)"
   ]
  },
  {
   "cell_type": "code",
   "execution_count": 25,
   "metadata": {},
   "outputs": [
    {
     "data": {
      "image/png": "[encoded data removed]",
      "text/plain": [
       "<Figure size 864x576 with 2 Axes>"
      ]
     },
     "metadata": {
      "needs_background": "light"
     },
     "output_type": "display_data"
    }
   ],
   "source": [
    "cfm = ConfusionMatrixDisplay(confusion_matrix(y_test, preds),display_labels=model.classes_)\n",
    "fig, ax = plt.subplots(figsize=(12, 8))\n",
    "cfm.plot(ax=ax)\n",
    "plt.show()"
   ]
  },
  {
   "cell_type": "code",
   "execution_count": 26,
   "metadata": {},
   "outputs": [
    {
     "name": "stdout",
     "output_type": "stream",
     "text": [
      "Accuracy score for the model: 0.9293333333333333\n"
     ]
    }
   ],
   "source": [
    "print(f\"Accuracy score for the model: {accuracy_score(y_test, preds)}\")"
   ]
  },
  {
   "cell_type": "markdown",
   "metadata": {},
   "source": [
    "### Hyperparameters tuning\n",
    "\n",
    "This first model behaves quite good with a **93 %** of accuracy score. From the confusion matrix we can observe that over a total of **401** satisfied customers, our model misclassified as not satisfied 35 (**8.73 %**) and over a total of 349 not satisfied customers, it misclassified as satisfied 18 (**5.16 %**).\n",
    "As an overall score we weren't able to classify **7.07 %** of the observations.\n",
    "\n",
    "We'll try now to tune the hyperparameters to see if these metrics can be effectively improved. We'll keep on use a non linear kernel *radial basis function*.\n",
    "We'll start by using a randomized method which choose randomly among a range of different values. This method, differently from **GridSearchCV** allows a faster elaboration.\n",
    "Once we found the best parameters, we'll do a new fitting by using the classic method with cross validation."
   ]
  },
  {
   "cell_type": "code",
   "execution_count": 27,
   "metadata": {},
   "outputs": [
    {
     "name": "stdout",
     "output_type": "stream",
     "text": [
      "SVC(C=10)\n",
      "0.9199999999999999\n",
      "{'kernel': 'rbf', 'gamma': 'scale', 'C': 10}\n"
     ]
    }
   ],
   "source": [
    "params = {'C': [0.001, 0.01, 0.1, 1, 10, 100, 1000],\n",
    "          'kernel': ['rbf'],\n",
    "          'gamma': ['scale', 'auto'],\n",
    "        }\n",
    "\n",
    "cv = StratifiedKFold(n_splits=10, shuffle=True, random_state=42)\n",
    "\n",
    "gs = RandomizedSearchCV(model, \n",
    "                        param_distributions=params, \n",
    "                        scoring='accuracy', \n",
    "                        cv=cv,\n",
    "                        n_jobs=-1)\n",
    "gs.fit(X_train, y_train)\n",
    "\n",
    "print(gs.best_estimator_)\n",
    "print(gs.best_score_)\n",
    "print(gs.best_params_)"
   ]
  },
  {
   "cell_type": "code",
   "execution_count": 28,
   "metadata": {},
   "outputs": [
    {
     "name": "stdout",
     "output_type": "stream",
     "text": [
      "{'C': 100, 'gamma': 0.01}\n"
     ]
    }
   ],
   "source": [
    "params = {\n",
    "          'C': [0.001, 0.01, 0.1, 1, 10, 100, 1000],\n",
    "          'gamma': ['scale', 1, 0.1, 0.01, 0.001, 0.0001],\n",
    "        }\n",
    "optimal_model = GridSearchCV(model, \n",
    "                             param_grid=params, \n",
    "                             cv=cv,\n",
    "                             scoring='accuracy',\n",
    "                             n_jobs=-1)\n",
    "optimal_model.fit(X_train, y_train)\n",
    "print(optimal_model.best_params_)\n"
   ]
  },
  {
   "cell_type": "code",
   "execution_count": 29,
   "metadata": {},
   "outputs": [
    {
     "name": "stdout",
     "output_type": "stream",
     "text": [
      "Best accuracy score after 10 fold cross validation: 0.9226666666666666\n"
     ]
    }
   ],
   "source": [
    "print(f\"Best accuracy score after 10 fold cross validation: {optimal_model.best_score_}\")"
   ]
  },
  {
   "cell_type": "markdown",
   "metadata": {},
   "source": [
    "At this point we'll initialize a new model with the best parameters we fetched."
   ]
  },
  {
   "cell_type": "code",
   "execution_count": 30,
   "metadata": {},
   "outputs": [],
   "source": [
    "new_model = SVC(C=100, kernel='rbf', gamma=0.01)\n",
    "new_model.fit(X_train, y_train)\n",
    "y_predict = new_model.predict(X_test)"
   ]
  },
  {
   "cell_type": "code",
   "execution_count": 31,
   "metadata": {},
   "outputs": [
    {
     "data": {
      "image/png": "[encoded data removed]",
      "text/plain": [
       "<Figure size 864x576 with 2 Axes>"
      ]
     },
     "metadata": {
      "needs_background": "light"
     },
     "output_type": "display_data"
    }
   ],
   "source": [
    "cfm = ConfusionMatrixDisplay(confusion_matrix(y_test, y_predict),display_labels=model.classes_)\n",
    "fig, ax = plt.subplots(figsize=(12, 8))\n",
    "cfm.plot(ax=ax)\n",
    "plt.show()"
   ]
  },
  {
   "cell_type": "code",
   "execution_count": 32,
   "metadata": {},
   "outputs": [
    {
     "name": "stdout",
     "output_type": "stream",
     "text": [
      "Accuracy score for the model: 0.928\n"
     ]
    }
   ],
   "source": [
    "print(f\"Accuracy score for the model: {accuracy_score(y_test, y_predict)}\")"
   ]
  },
  {
   "cell_type": "markdown",
   "metadata": {},
   "source": [
    "With this new setting we succeded to improve the number of false negatives (satisfied customers whom the machine classified as not satisfied)."
   ]
  },
  {
   "cell_type": "markdown",
   "metadata": {},
   "source": [
    "### Feature selection\n",
    "\n",
    "One of the main problems when we modelize a ML algorithm is the so called *overfitting*; this happens when the model shows good performances on the train set but can't achieve the same level, in terms of error's metrics, on the test set. It depends on an extensive *learning process* over the train set (including statistical noise and variability caused by the sampling). Noise and variability are, indeed, approached as if they were almost structural parameters that, however, we won't find or we'll find different on the test set.\n",
    "\n",
    "The more the dataset is complex (a.k.a great number of variables), the more the risk of overfitting increases. In our case, we're facing **26** explicative columns.\n",
    "We'll see now how the algorithm performs if we vary the number of variables taken in consideration for the fitting."
   ]
  },
  {
   "cell_type": "code",
   "execution_count": 33,
   "metadata": {},
   "outputs": [],
   "source": [
    "train_scores = list()\n",
    "test_scores = list()\n",
    "\n",
    "for i in range(len(X_train.columns), 0, -1):\n",
    "\n",
    "    X_train_reduced = X_train.iloc[:,:i]\n",
    "    X_test_reduced = X_test.iloc[:,:i]\n",
    "\n",
    "    new_model.fit(X_train_reduced, y_train)\n",
    "\n",
    "    train_scores.append(new_model.score(X_train_reduced, y_train))\n",
    "    test_scores.append(new_model.score(X_test_reduced, y_test))\n"
   ]
  },
  {
   "cell_type": "markdown",
   "metadata": {},
   "source": [
    "In the block code above we iterated over the number of variables, by reducing its dimension of one unit and doing a new training of the model with the new *reduced* dataset.. After that we calculated the accuracy score of the new model for both the train set and the test set to study the variations with respect to the variation of the dimension."
   ]
  },
  {
   "cell_type": "code",
   "execution_count": 34,
   "metadata": {},
   "outputs": [
    {
     "data": {
      "image/png": "[encoded data removed]",
      "text/plain": [
       "<Figure size 864x576 with 1 Axes>"
      ]
     },
     "metadata": {
      "needs_background": "light"
     },
     "output_type": "display_data"
    }
   ],
   "source": [
    "fig, ax = plt.subplots(figsize=(12,8))\n",
    "ax.set_title(\"Accuracy vs nr.of features for training and testing set\")\n",
    "ax.plot(train_scores, marker='o', label='train')\n",
    "ax.plot(test_scores, marker='^', label='test')\n",
    "ax.set_xticks(range(len(test_scores)))\n",
    "x_labels = range(26, 0, -1)\n",
    "ax.set_xticklabels(x_labels)\n",
    "ax.set_xlabel('Number of features selected')\n",
    "ax.set_ylabel('Accuracy score')\n",
    "ax.spines.right.set_visible(False)\n",
    "ax.spines.top.set_visible(False)\n",
    "ax.legend()\n",
    "plt.show()"
   ]
  },
  {
   "cell_type": "markdown",
   "metadata": {},
   "source": [
    "In the graph above we observe that the model performes very well on the train set with the highest dimension of the dataset, however it is not able to obtain the maximum value of accuracy on the test set (typical case of overfitting). The test set shows better performances if the variables of the dataset are downed to **23**."
   ]
  },
  {
   "cell_type": "code",
   "execution_count": 35,
   "metadata": {},
   "outputs": [
    {
     "data": {
      "text/plain": [
       "0.9333333333333333"
      ]
     },
     "execution_count": 35,
     "metadata": {},
     "output_type": "execute_result"
    }
   ],
   "source": [
    "new_model.fit(X_train.iloc[:,:23], y_train)\n",
    "accuracy_score(y_test, new_model.predict(X_test.iloc[:,:23]))"
   ]
  },
  {
   "cell_type": "code",
   "execution_count": 36,
   "metadata": {},
   "outputs": [],
   "source": [
    "y_pred = new_model.predict(X_test.iloc[:,:23])"
   ]
  },
  {
   "cell_type": "code",
   "execution_count": 37,
   "metadata": {},
   "outputs": [
    {
     "data": {
      "image/png": "[encoded data removed]",
      "text/plain": [
       "<Figure size 864x576 with 2 Axes>"
      ]
     },
     "metadata": {
      "needs_background": "light"
     },
     "output_type": "display_data"
    }
   ],
   "source": [
    "cfm = ConfusionMatrixDisplay(confusion_matrix(y_test, y_pred),display_labels=model.classes_)\n",
    "fig, ax = plt.subplots(figsize=(12, 8))\n",
    "cfm.plot(ax=ax)\n",
    "plt.show()"
   ]
  },
  {
   "cell_type": "markdown",
   "metadata": {},
   "source": [
    "By reducing the dimension of the dataset to **23** variables, we're able to improve the accuracy of **0.005 %**; this consequentially meant a clear upgrade of the criterions of classification of the algorithm. Only **6.48 %** of the satisfied customers were misclassified as not satisfied while the **6.88 %** of the not satisfied customers were classified as satisfied. In total, of the **750** observations of the test set, **6.70%** was misclassified."
   ]
  },
  {
   "cell_type": "markdown",
   "metadata": {},
   "source": [
    "## Conclusions\n",
    "\n",
    "In this project we modelized a ML algorithm (SVC) for classifying the level of satisfaction of a sample of customers. After a first explorative analysis, we've been able to train a model that showed a level of accuracy of **93.3 %** by reducing the number of significative features.\n",
    "If we want to resume we have:\n",
    "\n",
    "* Deleted the null values for they were representing an extremely small percentage of the dataset (**0.29 %**)\n",
    "* Handled a strategy for the outliers that we consider to be logical\n",
    "* Extrapolated all the statistically significant variables by *HP testing*\n",
    "* Optimized the parameters of the model with *cross-validation*\n",
    "* Optimized the number of columns to use for the training and optaining a slight improvement of the classification's performances."
   ]
  }
 ],
 "metadata": {
  "kernelspec": {
   "display_name": "Python 3.8.5 ('base')",
   "language": "python",
   "name": "python3"
  },
  "language_info": {
   "codemirror_mode": {
    "name": "ipython",
    "version": 3
   },
   "file_extension": ".py",
   "mimetype": "text/x-python",
   "name": "python",
   "nbconvert_exporter": "python",
   "pygments_lexer": "ipython3",
   "version": "3.8.5"
  },
  "orig_nbformat": 4,
  "vscode": {
   "interpreter": {
    "hash": "4276b2ca754db6a26b7ea634b0dbcdbe1143fb38970c596b41682d2c61fb3dca"
   }
  }
 },
 "nbformat": 4,
 "nbformat_minor": 2
}
